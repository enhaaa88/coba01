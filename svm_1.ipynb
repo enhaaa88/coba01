{
  "nbformat": 4,
  "nbformat_minor": 0,
  "metadata": {
    "colab": {
      "name": "Untitled4.ipynb",
      "provenance": [],
      "authorship_tag": "ABX9TyP2GO/O/WZO+ymgKVYebuHZ",
      "include_colab_link": true
    },
    "kernelspec": {
      "name": "python3",
      "display_name": "Python 3"
    },
    "language_info": {
      "name": "python"
    }
  },
  "cells": [
    {
      "cell_type": "markdown",
      "metadata": {
        "id": "view-in-github",
        "colab_type": "text"
      },
      "source": [
        "<a href=\"https://colab.research.google.com/github/enhaaa88/coba01/blob/main/svm_1.ipynb\" target=\"_parent\"><img src=\"https://colab.research.google.com/assets/colab-badge.svg\" alt=\"Open In Colab\"/></a>"
      ]
    },
    {
      "cell_type": "code",
      "execution_count": 1,
      "metadata": {
        "id": "A7_pQMd_k3Us"
      },
      "outputs": [],
      "source": [
        "#import library\n",
        "import numpy as np\n",
        "import pandas as pd\n",
        "import matplotlib.pyplot as plt\n",
        "from sklearn.model_selection import train_test_split\n",
        "from sklearn.svm import SVC\n",
        "clf = SVC(kernel='linear')"
      ]
    },
    {
      "cell_type": "code",
      "source": [
        "#importing the dataset\n",
        "df = pd.read_csv('tryout.csv')\n",
        "df.head()"
      ],
      "metadata": {
        "colab": {
          "base_uri": "https://localhost:8080/",
          "height": 372
        },
        "id": "wyYDBL-d8Y0A",
        "outputId": "cf675dba-814f-458e-dfb1-6927b7fd2360"
      },
      "execution_count": 2,
      "outputs": [
        {
          "output_type": "execute_result",
          "data": {
            "text/plain": [
              "   Rank          NIS                    Nama        Sekolah  \\\n",
              "0     1  20307332037      Rizqi Zuhdi Amarta  SMAN 1 PADANG   \n",
              "1     2  20307331061  Resti Natalia Chaniago  SMAN 5 PADANG   \n",
              "2     3  20307331062        Indah Widia Sari  SMAN 5 PADANG   \n",
              "3     4  20307332049                 Mulyadi   MAN 2 PADANG   \n",
              "4     5  20307331058          Elfaiza Warsya   SMA DONBOSCO   \n",
              "\n",
              "                       PTN                            Jurusan      PG  \\\n",
              "0   UNIVERSITAS GAJAH MADA  BANGUNAN SOSIAL DAN KESEJAHTERAAN  653.11   \n",
              "1  UNIVERSITAS GADJAH MADA                            SEJARAH  484.58   \n",
              "2    UNIVERSITAS INDONESIA                     SASTRA INGGRIS  481.70   \n",
              "3    UNIVERSITAS INDONESIA                   SASTRA INDONESIA  465.99   \n",
              "4    UNIVERSITAS INDONESIA           ILMU ADMINISTRASI NEGARA  485.77   \n",
              "\n",
              "   Penalaran Umum  Pemahaman Bacaan & Menulis  Pengetahuan & Pemahaman Umum  \\\n",
              "0          709.99                      475.55                        597.82   \n",
              "1          560.00                      525.00                        595.00   \n",
              "2          595.00                      525.00                        560.00   \n",
              "3          560.00                      525.00                        560.00   \n",
              "4          595.00                      560.00                        490.00   \n",
              "\n",
              "   Pengetahuan Kuantitatif  Bahasa Inggris  Ekonomi  Geografi  Sosiologi  \\\n",
              "0                   658.11          672.36   620.79    622.09     558.76   \n",
              "1                   595.00          574.00   560.00    560.00     560.00   \n",
              "2                   560.00          560.00   560.00    525.00     595.00   \n",
              "3                   525.00          542.50   560.00    525.00     560.00   \n",
              "4                   560.00          546.00   525.00    595.00     490.00   \n",
              "\n",
              "   Sejarah  Nilai TPS  Nilai TKA  Skor UTBK       Status  \n",
              "0   641.77     622.76     610.85    617.470  BELUM LULUS  \n",
              "1   595.00     568.75     569.80    569.275        LULUS  \n",
              "2   560.00     560.00     560.00    560.000        LULUS  \n",
              "3   525.00     542.50     542.50    542.500        LULUS  \n",
              "4   490.00     551.25     529.20    540.225        LULUS  "
            ],
            "text/html": [
              "\n",
              "  <div id=\"df-dd886a81-772c-4a09-a603-7e6fb73a4363\">\n",
              "    <div class=\"colab-df-container\">\n",
              "      <div>\n",
              "<style scoped>\n",
              "    .dataframe tbody tr th:only-of-type {\n",
              "        vertical-align: middle;\n",
              "    }\n",
              "\n",
              "    .dataframe tbody tr th {\n",
              "        vertical-align: top;\n",
              "    }\n",
              "\n",
              "    .dataframe thead th {\n",
              "        text-align: right;\n",
              "    }\n",
              "</style>\n",
              "<table border=\"1\" class=\"dataframe\">\n",
              "  <thead>\n",
              "    <tr style=\"text-align: right;\">\n",
              "      <th></th>\n",
              "      <th>Rank</th>\n",
              "      <th>NIS</th>\n",
              "      <th>Nama</th>\n",
              "      <th>Sekolah</th>\n",
              "      <th>PTN</th>\n",
              "      <th>Jurusan</th>\n",
              "      <th>PG</th>\n",
              "      <th>Penalaran Umum</th>\n",
              "      <th>Pemahaman Bacaan &amp; Menulis</th>\n",
              "      <th>Pengetahuan &amp; Pemahaman Umum</th>\n",
              "      <th>Pengetahuan Kuantitatif</th>\n",
              "      <th>Bahasa Inggris</th>\n",
              "      <th>Ekonomi</th>\n",
              "      <th>Geografi</th>\n",
              "      <th>Sosiologi</th>\n",
              "      <th>Sejarah</th>\n",
              "      <th>Nilai TPS</th>\n",
              "      <th>Nilai TKA</th>\n",
              "      <th>Skor UTBK</th>\n",
              "      <th>Status</th>\n",
              "    </tr>\n",
              "  </thead>\n",
              "  <tbody>\n",
              "    <tr>\n",
              "      <th>0</th>\n",
              "      <td>1</td>\n",
              "      <td>20307332037</td>\n",
              "      <td>Rizqi Zuhdi Amarta</td>\n",
              "      <td>SMAN 1 PADANG</td>\n",
              "      <td>UNIVERSITAS GAJAH MADA</td>\n",
              "      <td>BANGUNAN SOSIAL DAN KESEJAHTERAAN</td>\n",
              "      <td>653.11</td>\n",
              "      <td>709.99</td>\n",
              "      <td>475.55</td>\n",
              "      <td>597.82</td>\n",
              "      <td>658.11</td>\n",
              "      <td>672.36</td>\n",
              "      <td>620.79</td>\n",
              "      <td>622.09</td>\n",
              "      <td>558.76</td>\n",
              "      <td>641.77</td>\n",
              "      <td>622.76</td>\n",
              "      <td>610.85</td>\n",
              "      <td>617.470</td>\n",
              "      <td>BELUM LULUS</td>\n",
              "    </tr>\n",
              "    <tr>\n",
              "      <th>1</th>\n",
              "      <td>2</td>\n",
              "      <td>20307331061</td>\n",
              "      <td>Resti Natalia Chaniago</td>\n",
              "      <td>SMAN 5 PADANG</td>\n",
              "      <td>UNIVERSITAS GADJAH MADA</td>\n",
              "      <td>SEJARAH</td>\n",
              "      <td>484.58</td>\n",
              "      <td>560.00</td>\n",
              "      <td>525.00</td>\n",
              "      <td>595.00</td>\n",
              "      <td>595.00</td>\n",
              "      <td>574.00</td>\n",
              "      <td>560.00</td>\n",
              "      <td>560.00</td>\n",
              "      <td>560.00</td>\n",
              "      <td>595.00</td>\n",
              "      <td>568.75</td>\n",
              "      <td>569.80</td>\n",
              "      <td>569.275</td>\n",
              "      <td>LULUS</td>\n",
              "    </tr>\n",
              "    <tr>\n",
              "      <th>2</th>\n",
              "      <td>3</td>\n",
              "      <td>20307331062</td>\n",
              "      <td>Indah Widia Sari</td>\n",
              "      <td>SMAN 5 PADANG</td>\n",
              "      <td>UNIVERSITAS INDONESIA</td>\n",
              "      <td>SASTRA INGGRIS</td>\n",
              "      <td>481.70</td>\n",
              "      <td>595.00</td>\n",
              "      <td>525.00</td>\n",
              "      <td>560.00</td>\n",
              "      <td>560.00</td>\n",
              "      <td>560.00</td>\n",
              "      <td>560.00</td>\n",
              "      <td>525.00</td>\n",
              "      <td>595.00</td>\n",
              "      <td>560.00</td>\n",
              "      <td>560.00</td>\n",
              "      <td>560.00</td>\n",
              "      <td>560.000</td>\n",
              "      <td>LULUS</td>\n",
              "    </tr>\n",
              "    <tr>\n",
              "      <th>3</th>\n",
              "      <td>4</td>\n",
              "      <td>20307332049</td>\n",
              "      <td>Mulyadi</td>\n",
              "      <td>MAN 2 PADANG</td>\n",
              "      <td>UNIVERSITAS INDONESIA</td>\n",
              "      <td>SASTRA INDONESIA</td>\n",
              "      <td>465.99</td>\n",
              "      <td>560.00</td>\n",
              "      <td>525.00</td>\n",
              "      <td>560.00</td>\n",
              "      <td>525.00</td>\n",
              "      <td>542.50</td>\n",
              "      <td>560.00</td>\n",
              "      <td>525.00</td>\n",
              "      <td>560.00</td>\n",
              "      <td>525.00</td>\n",
              "      <td>542.50</td>\n",
              "      <td>542.50</td>\n",
              "      <td>542.500</td>\n",
              "      <td>LULUS</td>\n",
              "    </tr>\n",
              "    <tr>\n",
              "      <th>4</th>\n",
              "      <td>5</td>\n",
              "      <td>20307331058</td>\n",
              "      <td>Elfaiza Warsya</td>\n",
              "      <td>SMA DONBOSCO</td>\n",
              "      <td>UNIVERSITAS INDONESIA</td>\n",
              "      <td>ILMU ADMINISTRASI NEGARA</td>\n",
              "      <td>485.77</td>\n",
              "      <td>595.00</td>\n",
              "      <td>560.00</td>\n",
              "      <td>490.00</td>\n",
              "      <td>560.00</td>\n",
              "      <td>546.00</td>\n",
              "      <td>525.00</td>\n",
              "      <td>595.00</td>\n",
              "      <td>490.00</td>\n",
              "      <td>490.00</td>\n",
              "      <td>551.25</td>\n",
              "      <td>529.20</td>\n",
              "      <td>540.225</td>\n",
              "      <td>LULUS</td>\n",
              "    </tr>\n",
              "  </tbody>\n",
              "</table>\n",
              "</div>\n",
              "      <button class=\"colab-df-convert\" onclick=\"convertToInteractive('df-dd886a81-772c-4a09-a603-7e6fb73a4363')\"\n",
              "              title=\"Convert this dataframe to an interactive table.\"\n",
              "              style=\"display:none;\">\n",
              "        \n",
              "  <svg xmlns=\"http://www.w3.org/2000/svg\" height=\"24px\"viewBox=\"0 0 24 24\"\n",
              "       width=\"24px\">\n",
              "    <path d=\"M0 0h24v24H0V0z\" fill=\"none\"/>\n",
              "    <path d=\"M18.56 5.44l.94 2.06.94-2.06 2.06-.94-2.06-.94-.94-2.06-.94 2.06-2.06.94zm-11 1L8.5 8.5l.94-2.06 2.06-.94-2.06-.94L8.5 2.5l-.94 2.06-2.06.94zm10 10l.94 2.06.94-2.06 2.06-.94-2.06-.94-.94-2.06-.94 2.06-2.06.94z\"/><path d=\"M17.41 7.96l-1.37-1.37c-.4-.4-.92-.59-1.43-.59-.52 0-1.04.2-1.43.59L10.3 9.45l-7.72 7.72c-.78.78-.78 2.05 0 2.83L4 21.41c.39.39.9.59 1.41.59.51 0 1.02-.2 1.41-.59l7.78-7.78 2.81-2.81c.8-.78.8-2.07 0-2.86zM5.41 20L4 18.59l7.72-7.72 1.47 1.35L5.41 20z\"/>\n",
              "  </svg>\n",
              "      </button>\n",
              "      \n",
              "  <style>\n",
              "    .colab-df-container {\n",
              "      display:flex;\n",
              "      flex-wrap:wrap;\n",
              "      gap: 12px;\n",
              "    }\n",
              "\n",
              "    .colab-df-convert {\n",
              "      background-color: #E8F0FE;\n",
              "      border: none;\n",
              "      border-radius: 50%;\n",
              "      cursor: pointer;\n",
              "      display: none;\n",
              "      fill: #1967D2;\n",
              "      height: 32px;\n",
              "      padding: 0 0 0 0;\n",
              "      width: 32px;\n",
              "    }\n",
              "\n",
              "    .colab-df-convert:hover {\n",
              "      background-color: #E2EBFA;\n",
              "      box-shadow: 0px 1px 2px rgba(60, 64, 67, 0.3), 0px 1px 3px 1px rgba(60, 64, 67, 0.15);\n",
              "      fill: #174EA6;\n",
              "    }\n",
              "\n",
              "    [theme=dark] .colab-df-convert {\n",
              "      background-color: #3B4455;\n",
              "      fill: #D2E3FC;\n",
              "    }\n",
              "\n",
              "    [theme=dark] .colab-df-convert:hover {\n",
              "      background-color: #434B5C;\n",
              "      box-shadow: 0px 1px 3px 1px rgba(0, 0, 0, 0.15);\n",
              "      filter: drop-shadow(0px 1px 2px rgba(0, 0, 0, 0.3));\n",
              "      fill: #FFFFFF;\n",
              "    }\n",
              "  </style>\n",
              "\n",
              "      <script>\n",
              "        const buttonEl =\n",
              "          document.querySelector('#df-dd886a81-772c-4a09-a603-7e6fb73a4363 button.colab-df-convert');\n",
              "        buttonEl.style.display =\n",
              "          google.colab.kernel.accessAllowed ? 'block' : 'none';\n",
              "\n",
              "        async function convertToInteractive(key) {\n",
              "          const element = document.querySelector('#df-dd886a81-772c-4a09-a603-7e6fb73a4363');\n",
              "          const dataTable =\n",
              "            await google.colab.kernel.invokeFunction('convertToInteractive',\n",
              "                                                     [key], {});\n",
              "          if (!dataTable) return;\n",
              "\n",
              "          const docLinkHtml = 'Like what you see? Visit the ' +\n",
              "            '<a target=\"_blank\" href=https://colab.research.google.com/notebooks/data_table.ipynb>data table notebook</a>'\n",
              "            + ' to learn more about interactive tables.';\n",
              "          element.innerHTML = '';\n",
              "          dataTable['output_type'] = 'display_data';\n",
              "          await google.colab.output.renderOutput(dataTable, element);\n",
              "          const docLink = document.createElement('div');\n",
              "          docLink.innerHTML = docLinkHtml;\n",
              "          element.appendChild(docLink);\n",
              "        }\n",
              "      </script>\n",
              "    </div>\n",
              "  </div>\n",
              "  "
            ]
          },
          "metadata": {},
          "execution_count": 2
        }
      ]
    },
    {
      "cell_type": "code",
      "source": [
        "x = df.iloc[:,[16,17]].values\n",
        "y = df.iloc[:, -1].values\n",
        "print(x[0:5])"
      ],
      "metadata": {
        "colab": {
          "base_uri": "https://localhost:8080/"
        },
        "id": "1Nmvpauk8cSw",
        "outputId": "82860ea7-955a-4cd8-8d93-91c7cc93f4ea"
      },
      "execution_count": 3,
      "outputs": [
        {
          "output_type": "stream",
          "name": "stdout",
          "text": [
            "[[622.76 610.85]\n",
            " [568.75 569.8 ]\n",
            " [560.   560.  ]\n",
            " [542.5  542.5 ]\n",
            " [551.25 529.2 ]]\n"
          ]
        }
      ]
    },
    {
      "cell_type": "code",
      "source": [
        "print(y[0:5])"
      ],
      "metadata": {
        "colab": {
          "base_uri": "https://localhost:8080/"
        },
        "id": "VdhEvOF-8v9n",
        "outputId": "fb96368e-e347-4ffc-9d4d-056b4600b2bd"
      },
      "execution_count": 4,
      "outputs": [
        {
          "output_type": "stream",
          "name": "stdout",
          "text": [
            "['BELUM LULUS' 'LULUS' 'LULUS' 'LULUS' 'LULUS']\n"
          ]
        }
      ]
    },
    {
      "cell_type": "code",
      "source": [
        "#Splitting the dataset into the Training set and Test set\n",
        "x_train, x_test, y_train, y_test = train_test_split(x,y,test_size=0.29, random_state =0)"
      ],
      "metadata": {
        "id": "bpAXh_nh8zgH"
      },
      "execution_count": 5,
      "outputs": []
    },
    {
      "cell_type": "code",
      "source": [
        "#scalling feature\n",
        "from sklearn.preprocessing import StandardScaler\n",
        "sc = StandardScaler()\n",
        "x_train = sc.fit_transform(x_train)\n",
        "x_test = sc.transform (x_test)"
      ],
      "metadata": {
        "id": "AKQhtQG082FQ"
      },
      "execution_count": 6,
      "outputs": []
    },
    {
      "cell_type": "code",
      "source": [
        "print(x_train[0:5])"
      ],
      "metadata": {
        "colab": {
          "base_uri": "https://localhost:8080/"
        },
        "id": "iu_ifKSi84sB",
        "outputId": "d3e3ffde-0f83-4acb-ee0d-bc5ac9d4b77e"
      },
      "execution_count": 7,
      "outputs": [
        {
          "output_type": "stream",
          "name": "stdout",
          "text": [
            "[[-0.84094787  0.38449887]\n",
            " [ 0.8600694   0.98839496]\n",
            " [-0.56878511  0.69935068]\n",
            " [ 0.51986595  0.76128874]\n",
            " [ 0.72398802  0.85935734]]\n"
          ]
        }
      ]
    },
    {
      "cell_type": "code",
      "source": [
        "print(x_test[0:5])"
      ],
      "metadata": {
        "colab": {
          "base_uri": "https://localhost:8080/"
        },
        "id": "veWeqpEN88xy",
        "outputId": "2423c2df-254a-4a2b-97c7-a936b8b8f7e5"
      },
      "execution_count": 8,
      "outputs": [
        {
          "output_type": "stream",
          "name": "stdout",
          "text": [
            "[[ 0.29575935  0.38368778]\n",
            " [ 0.45182525  0.23997673]\n",
            " [-0.70486649  0.39482188]\n",
            " [ 0.17966249  0.60644359]\n",
            " [ 0.31574387  0.27610727]]\n"
          ]
        }
      ]
    },
    {
      "cell_type": "code",
      "source": [
        "#Training the Kernel SVM model on the Training set\n",
        "classifier = SVC(kernel = 'linear', random_state = 0)\n",
        "classifier.fit(x_train, y_train)"
      ],
      "metadata": {
        "colab": {
          "base_uri": "https://localhost:8080/"
        },
        "id": "NHMfY47j8_Kp",
        "outputId": "6e509db1-def9-4835-a979-860f29a4a9e5"
      },
      "execution_count": 9,
      "outputs": [
        {
          "output_type": "execute_result",
          "data": {
            "text/plain": [
              "SVC(kernel='linear', random_state=0)"
            ]
          },
          "metadata": {},
          "execution_count": 9
        }
      ]
    },
    {
      "cell_type": "code",
      "source": [
        "#Predicting the Test set results\n",
        "y_predict = classifier.predict(x_test)"
      ],
      "metadata": {
        "id": "LMgqB2ud9FZg"
      },
      "execution_count": 10,
      "outputs": []
    },
    {
      "cell_type": "code",
      "source": [
        "y_predict[0:5]"
      ],
      "metadata": {
        "colab": {
          "base_uri": "https://localhost:8080/"
        },
        "id": "5vwcdjYW9JVv",
        "outputId": "91902641-af21-4154-f16a-bd0b2b46d16a"
      },
      "execution_count": 15,
      "outputs": [
        {
          "output_type": "execute_result",
          "data": {
            "text/plain": [
              "array(['LULUS', 'LULUS', 'BELUM LULUS', 'LULUS', 'BELUM LULUS'],\n",
              "      dtype=object)"
            ]
          },
          "metadata": {},
          "execution_count": 15
        }
      ]
    },
    {
      "cell_type": "code",
      "source": [
        "#making the confusion matrix\n",
        "\n",
        "clf.fit(x_train,y_train)\n",
        "y_pred = clf.predict(x_test)\n",
        "print('Accuracy:')\n",
        "print((y_test==y_pred).sum()/len(y_pred))"
      ],
      "metadata": {
        "colab": {
          "base_uri": "https://localhost:8080/"
        },
        "id": "sfCoYUxm9K03",
        "outputId": "3ff70b39-5d50-4eb2-ad61-f46216ea6ab9"
      },
      "execution_count": 14,
      "outputs": [
        {
          "output_type": "stream",
          "name": "stdout",
          "text": [
            "Accuracy:\n",
            "0.9047619047619048\n"
          ]
        }
      ]
    }
  ]
}